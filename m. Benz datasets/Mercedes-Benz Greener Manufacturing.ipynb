{
 "cells": [
  {
   "cell_type": "code",
   "execution_count": 1,
   "id": "47ad0353",
   "metadata": {},
   "outputs": [],
   "source": [
    "import pandas as pd\n",
    "import numpy as np\n",
    "import matplotlib.pyplot as plt\n",
    "import seaborn as sns\n",
    "%matplotlib inline"
   ]
  },
  {
   "cell_type": "code",
   "execution_count": 2,
   "id": "7b69fb45",
   "metadata": {},
   "outputs": [
    {
     "name": "stdout",
     "output_type": "stream",
     "text": [
      "(4209, 377)\n",
      "(4209, 378)\n"
     ]
    }
   ],
   "source": [
    "df_train= pd.read_csv('train.csv')\n",
    "df_test= pd.read_csv('test.csv')\n",
    "print(df_test.shape)\n",
    "#needs numpy as yet\n",
    "print(df_train.shape)"
   ]
  },
  {
   "cell_type": "code",
   "execution_count": 3,
   "id": "302c992f",
   "metadata": {},
   "outputs": [
    {
     "data": {
      "text/plain": [
       "ID        int64\n",
       "y       float64\n",
       "X0       object\n",
       "X1       object\n",
       "X2       object\n",
       "         ...   \n",
       "X380      int64\n",
       "X382      int64\n",
       "X383      int64\n",
       "X384      int64\n",
       "X385      int64\n",
       "Length: 378, dtype: object"
      ]
     },
     "execution_count": 3,
     "metadata": {},
     "output_type": "execute_result"
    }
   ],
   "source": [
    "df_train.head(11)\n",
    "df_train.dtypes"
   ]
  },
  {
   "cell_type": "code",
   "execution_count": 29,
   "id": "bffe9ad7",
   "metadata": {},
   "outputs": [
    {
     "name": "stderr",
     "output_type": "stream",
     "text": [
      "C:\\ProgramData\\anaconda3\\lib\\site-packages\\numpy\\core\\fromnumeric.py:3713: FutureWarning: The default value of numeric_only in DataFrame.var is deprecated. In a future version, it will default to False. In addition, specifying 'numeric_only=None' is deprecated. Select only valid columns or specify the value of numeric_only to silence this warning.\n",
      "  return var(axis=axis, dtype=dtype, out=out, ddof=ddof, **kwargs)\n",
      "C:\\ProgramData\\anaconda3\\lib\\site-packages\\numpy\\core\\fromnumeric.py:3713: FutureWarning: The default value of numeric_only in DataFrame.var is deprecated. In a future version, it will default to False. In addition, specifying 'numeric_only=None' is deprecated. Select only valid columns or specify the value of numeric_only to silence this warning.\n",
      "  return var(axis=axis, dtype=dtype, out=out, ddof=ddof, **kwargs)\n"
     ]
    },
    {
     "data": {
      "text/plain": [
       "ID      5.869917e+06\n",
       "X10     1.864563e-02\n",
       "X12     6.883438e-02\n",
       "X13     5.733136e-02\n",
       "X14     2.448005e-01\n",
       "            ...     \n",
       "X380    8.012675e-03\n",
       "X382    8.713410e-03\n",
       "X383    4.749465e-04\n",
       "X384    7.122504e-04\n",
       "X385    1.660337e-03\n",
       "Length: 352, dtype: float64"
      ]
     },
     "execution_count": 29,
     "metadata": {},
     "output_type": "execute_result"
    }
   ],
   "source": [
    "#reverse imputation#\n",
    "df_train.describe()\n",
    "\n",
    "train_data=np.var(df_train, axis = 0, ddof = 0) #/axis = 1\n",
    "train_data\n",
    "\n",
    "test_data=np.var(df_test, axis = 0)\n",
    "test_data"
   ]
  },
  {
   "cell_type": "code",
   "execution_count": 5,
   "id": "df514401",
   "metadata": {},
   "outputs": [],
   "source": [
    "### ^ np.var throws future warning, deprecated --> no obvious fix"
   ]
  },
  {
   "cell_type": "code",
   "execution_count": 7,
   "id": "0eef062b",
   "metadata": {},
   "outputs": [
    {
     "name": "stdout",
     "output_type": "stream",
     "text": [
      "['X11', 'X93', 'X107', 'X233', 'X235', 'X268', 'X289', 'X290', 'X293', 'X297', 'X330', 'X347']\n"
     ]
    }
   ],
   "source": [
    "train_name=[]\n",
    "for i in train_data.items():\n",
    "    if(i[1]==0):\n",
    "        train_name.append(i[0])\n",
    "        #print(i)\n",
    "print(train_name)"
   ]
  },
  {
   "cell_type": "code",
   "execution_count": 8,
   "id": "ef3f199d",
   "metadata": {},
   "outputs": [
    {
     "name": "stdout",
     "output_type": "stream",
     "text": [
      "['X257', 'X258', 'X295', 'X296', 'X369']\n"
     ]
    }
   ],
   "source": [
    "test_name=[]\n",
    "for i in test_data.items():\n",
    "    if(i[1]==0):\n",
    "        test_name.append(i[0])\n",
    "        #print(i) or basic input\n",
    "print(test_name)"
   ]
  },
  {
   "cell_type": "code",
   "execution_count": 9,
   "id": "5831f535",
   "metadata": {},
   "outputs": [
    {
     "name": "stdout",
     "output_type": "stream",
     "text": [
      "(4209, 361)\n",
      "(4209, 360)\n"
     ]
    }
   ],
   "source": [
    "df_train.drop(train_name,axis=1, inplace=True)\n",
    "df_train.drop(test_name,axis=1, inplace=True)\n",
    "df_test.drop(train_name,axis=1, inplace=True)\n",
    "df_test.drop(test_name,axis=1, inplace=True)\n",
    "print(df_train.shape)\n",
    "print(df_test.shape)"
   ]
  },
  {
   "cell_type": "code",
   "execution_count": 10,
   "id": "2097e4b1",
   "metadata": {},
   "outputs": [
    {
     "data": {
      "text/html": [
       "<div>\n",
       "<style scoped>\n",
       "    .dataframe tbody tr th:only-of-type {\n",
       "        vertical-align: middle;\n",
       "    }\n",
       "\n",
       "    .dataframe tbody tr th {\n",
       "        vertical-align: top;\n",
       "    }\n",
       "\n",
       "    .dataframe thead th {\n",
       "        text-align: right;\n",
       "    }\n",
       "</style>\n",
       "<table border=\"1\" class=\"dataframe\">\n",
       "  <thead>\n",
       "    <tr style=\"text-align: right;\">\n",
       "      <th></th>\n",
       "      <th>X0</th>\n",
       "      <th>X1</th>\n",
       "      <th>X2</th>\n",
       "      <th>X3</th>\n",
       "      <th>X4</th>\n",
       "      <th>X5</th>\n",
       "      <th>X6</th>\n",
       "      <th>X8</th>\n",
       "    </tr>\n",
       "  </thead>\n",
       "  <tbody>\n",
       "    <tr>\n",
       "      <th>count</th>\n",
       "      <td>4209</td>\n",
       "      <td>4209</td>\n",
       "      <td>4209</td>\n",
       "      <td>4209</td>\n",
       "      <td>4209</td>\n",
       "      <td>4209</td>\n",
       "      <td>4209</td>\n",
       "      <td>4209</td>\n",
       "    </tr>\n",
       "    <tr>\n",
       "      <th>unique</th>\n",
       "      <td>47</td>\n",
       "      <td>27</td>\n",
       "      <td>44</td>\n",
       "      <td>7</td>\n",
       "      <td>4</td>\n",
       "      <td>29</td>\n",
       "      <td>12</td>\n",
       "      <td>25</td>\n",
       "    </tr>\n",
       "    <tr>\n",
       "      <th>top</th>\n",
       "      <td>z</td>\n",
       "      <td>aa</td>\n",
       "      <td>as</td>\n",
       "      <td>c</td>\n",
       "      <td>d</td>\n",
       "      <td>w</td>\n",
       "      <td>g</td>\n",
       "      <td>j</td>\n",
       "    </tr>\n",
       "    <tr>\n",
       "      <th>freq</th>\n",
       "      <td>360</td>\n",
       "      <td>833</td>\n",
       "      <td>1659</td>\n",
       "      <td>1942</td>\n",
       "      <td>4205</td>\n",
       "      <td>231</td>\n",
       "      <td>1042</td>\n",
       "      <td>277</td>\n",
       "    </tr>\n",
       "  </tbody>\n",
       "</table>\n",
       "</div>"
      ],
      "text/plain": [
       "          X0    X1    X2    X3    X4    X5    X6    X8\n",
       "count   4209  4209  4209  4209  4209  4209  4209  4209\n",
       "unique    47    27    44     7     4    29    12    25\n",
       "top        z    aa    as     c     d     w     g     j\n",
       "freq     360   833  1659  1942  4205   231  1042   277"
      ]
     },
     "execution_count": 10,
     "metadata": {},
     "output_type": "execute_result"
    }
   ],
   "source": [
    "#exfil null values\n",
    "\n",
    "for i,j in zip(df_train.columns,df_train.isnull().sum()):\n",
    "    if(j!=0):\n",
    "        print(i)\n",
    "for i,j in zip(df_test.columns,df_test.isnull().sum()):\n",
    "    if(j!=0):\n",
    "        print(i)\n",
    "train_desc=df_train.describe(include='O')\n",
    "df_train.describe(include='O')"
   ]
  },
  {
   "cell_type": "code",
   "execution_count": 11,
   "id": "d8237e31",
   "metadata": {},
   "outputs": [
    {
     "data": {
      "text/html": [
       "<div>\n",
       "<style scoped>\n",
       "    .dataframe tbody tr th:only-of-type {\n",
       "        vertical-align: middle;\n",
       "    }\n",
       "\n",
       "    .dataframe tbody tr th {\n",
       "        vertical-align: top;\n",
       "    }\n",
       "\n",
       "    .dataframe thead th {\n",
       "        text-align: right;\n",
       "    }\n",
       "</style>\n",
       "<table border=\"1\" class=\"dataframe\">\n",
       "  <thead>\n",
       "    <tr style=\"text-align: right;\">\n",
       "      <th></th>\n",
       "      <th>X0</th>\n",
       "      <th>X1</th>\n",
       "      <th>X2</th>\n",
       "      <th>X3</th>\n",
       "      <th>X4</th>\n",
       "      <th>X5</th>\n",
       "      <th>X6</th>\n",
       "      <th>X8</th>\n",
       "    </tr>\n",
       "  </thead>\n",
       "  <tbody>\n",
       "    <tr>\n",
       "      <th>count</th>\n",
       "      <td>4209</td>\n",
       "      <td>4209</td>\n",
       "      <td>4209</td>\n",
       "      <td>4209</td>\n",
       "      <td>4209</td>\n",
       "      <td>4209</td>\n",
       "      <td>4209</td>\n",
       "      <td>4209</td>\n",
       "    </tr>\n",
       "    <tr>\n",
       "      <th>unique</th>\n",
       "      <td>47</td>\n",
       "      <td>27</td>\n",
       "      <td>44</td>\n",
       "      <td>7</td>\n",
       "      <td>4</td>\n",
       "      <td>29</td>\n",
       "      <td>12</td>\n",
       "      <td>25</td>\n",
       "    </tr>\n",
       "    <tr>\n",
       "      <th>top</th>\n",
       "      <td>z</td>\n",
       "      <td>aa</td>\n",
       "      <td>as</td>\n",
       "      <td>c</td>\n",
       "      <td>d</td>\n",
       "      <td>w</td>\n",
       "      <td>g</td>\n",
       "      <td>j</td>\n",
       "    </tr>\n",
       "    <tr>\n",
       "      <th>freq</th>\n",
       "      <td>360</td>\n",
       "      <td>833</td>\n",
       "      <td>1659</td>\n",
       "      <td>1942</td>\n",
       "      <td>4205</td>\n",
       "      <td>231</td>\n",
       "      <td>1042</td>\n",
       "      <td>277</td>\n",
       "    </tr>\n",
       "  </tbody>\n",
       "</table>\n",
       "</div>"
      ],
      "text/plain": [
       "          X0    X1    X2    X3    X4    X5    X6    X8\n",
       "count   4209  4209  4209  4209  4209  4209  4209  4209\n",
       "unique    47    27    44     7     4    29    12    25\n",
       "top        z    aa    as     c     d     w     g     j\n",
       "freq     360   833  1659  1942  4205   231  1042   277"
      ]
     },
     "execution_count": 11,
     "metadata": {},
     "output_type": "execute_result"
    }
   ],
   "source": [
    "#train in descending columns\n",
    "train_desc.columns\n",
    "\n",
    "test_desc=df_test.describe(include='O')\n",
    "df_train.describe(include='O')"
   ]
  },
  {
   "cell_type": "code",
   "execution_count": 12,
   "id": "aa799c69",
   "metadata": {},
   "outputs": [
    {
     "name": "stdout",
     "output_type": "stream",
     "text": [
      "df_train\n",
      "X0 ['k' 'az' 't' 'al' 'o' 'w' 'j' 'h' 's' 'n' 'ay' 'f' 'x' 'y' 'aj' 'ak' 'am'\n",
      " 'z' 'q' 'at' 'ap' 'v' 'af' 'a' 'e' 'ai' 'd' 'aq' 'c' 'aa' 'ba' 'as' 'i'\n",
      " 'r' 'b' 'ax' 'bc' 'u' 'ad' 'au' 'm' 'l' 'aw' 'ao' 'ac' 'g' 'ab']\n",
      "df_test\n",
      "X0 ['az' 't' 'w' 'y' 'x' 'f' 'ap' 'o' 'ay' 'al' 'h' 'z' 'aj' 'd' 'v' 'ak'\n",
      " 'ba' 'n' 'j' 's' 'af' 'ax' 'at' 'aq' 'av' 'm' 'k' 'a' 'e' 'ai' 'i' 'ag'\n",
      " 'b' 'am' 'aw' 'as' 'r' 'ao' 'u' 'l' 'c' 'ad' 'au' 'bc' 'g' 'an' 'ae' 'p'\n",
      " 'bb']\n",
      "df_train\n",
      "X1 ['v' 't' 'w' 'b' 'r' 'l' 's' 'aa' 'c' 'a' 'e' 'h' 'z' 'j' 'o' 'u' 'p' 'n'\n",
      " 'i' 'y' 'd' 'f' 'm' 'k' 'g' 'q' 'ab']\n",
      "df_test\n",
      "X1 ['v' 'b' 'l' 's' 'aa' 'r' 'a' 'i' 'p' 'c' 'o' 'm' 'z' 'e' 'h' 'w' 'g' 'k'\n",
      " 'y' 't' 'u' 'd' 'j' 'q' 'n' 'f' 'ab']\n",
      "df_train\n",
      "X2 ['at' 'av' 'n' 'e' 'as' 'aq' 'r' 'ai' 'ak' 'm' 'a' 'k' 'ae' 's' 'f' 'd'\n",
      " 'ag' 'ay' 'ac' 'ap' 'g' 'i' 'aw' 'y' 'b' 'ao' 'al' 'h' 'x' 'au' 't' 'an'\n",
      " 'z' 'ah' 'p' 'am' 'j' 'q' 'af' 'l' 'aa' 'c' 'o' 'ar']\n",
      "df_test\n",
      "X2 ['n' 'ai' 'as' 'ae' 's' 'b' 'e' 'ak' 'm' 'a' 'aq' 'ag' 'r' 'k' 'aj' 'ay'\n",
      " 'ao' 'an' 'ac' 'af' 'ax' 'h' 'i' 'f' 'ap' 'p' 'au' 't' 'z' 'y' 'aw' 'd'\n",
      " 'at' 'g' 'am' 'j' 'x' 'ab' 'w' 'q' 'ah' 'ad' 'al' 'av' 'u']\n",
      "df_train\n",
      "X3 ['a' 'e' 'c' 'f' 'd' 'b' 'g']\n",
      "df_test\n",
      "X3 ['f' 'a' 'c' 'e' 'd' 'g' 'b']\n",
      "df_train\n",
      "X4 ['d' 'b' 'c' 'a']\n",
      "df_test\n",
      "X4 ['d' 'b' 'a' 'c']\n",
      "df_train\n",
      "X5 ['u' 'y' 'x' 'h' 'g' 'f' 'j' 'i' 'd' 'c' 'af' 'ag' 'ab' 'ac' 'ad' 'ae'\n",
      " 'ah' 'l' 'k' 'n' 'm' 'p' 'q' 's' 'r' 'v' 'w' 'o' 'aa']\n",
      "df_test\n",
      "X5 ['t' 'b' 'a' 'z' 'y' 'x' 'h' 'g' 'f' 'j' 'i' 'd' 'c' 'af' 'ag' 'ab' 'ac'\n",
      " 'ad' 'ae' 'ah' 'l' 'k' 'n' 'm' 'p' 'q' 's' 'r' 'v' 'w' 'o' 'aa']\n",
      "df_train\n",
      "X6 ['j' 'l' 'd' 'h' 'i' 'a' 'g' 'c' 'k' 'e' 'f' 'b']\n",
      "df_test\n",
      "X6 ['a' 'g' 'j' 'l' 'i' 'd' 'f' 'h' 'c' 'k' 'e' 'b']\n",
      "df_train\n",
      "X8 ['o' 'x' 'e' 'n' 's' 'a' 'h' 'p' 'm' 'k' 'd' 'i' 'v' 'j' 'b' 'q' 'w' 'g'\n",
      " 'y' 'l' 'f' 'u' 'r' 't' 'c']\n",
      "df_test\n",
      "X8 ['w' 'y' 'j' 'n' 'm' 's' 'a' 'v' 'r' 'o' 't' 'h' 'c' 'k' 'p' 'u' 'd' 'g'\n",
      " 'b' 'q' 'e' 'l' 'f' 'i' 'x']\n"
     ]
    }
   ],
   "source": [
    "#so on with test set\n",
    "test_desc.columns\n",
    "\n",
    "for i in ['X0', 'X1', 'X2', 'X3', 'X4', 'X5', 'X6', 'X8']:\n",
    "    print('df_train')\n",
    "    print(i, df_train[i].unique())\n",
    "    print('df_test')\n",
    "    print(i, df_test[i].unique())"
   ]
  },
  {
   "cell_type": "code",
   "execution_count": 13,
   "id": "9b7826a5",
   "metadata": {},
   "outputs": [],
   "source": [
    "#all correct so far- ; outputs are clean"
   ]
  },
  {
   "cell_type": "code",
   "execution_count": 14,
   "id": "a8ed93f9",
   "metadata": {},
   "outputs": [
    {
     "name": "stdout",
     "output_type": "stream",
     "text": [
      "(4209, 359)\n",
      "(4209,)\n"
     ]
    }
   ],
   "source": [
    "# LABEL ENCODING #\n",
    "df_train_x= df_train.drop(['ID','y'], axis=1)\n",
    "df_train_y=df_train['y']\n",
    "print(df_train_x.shape)\n",
    "print(df_train_y.shape)"
   ]
  },
  {
   "cell_type": "code",
   "execution_count": 15,
   "id": "70b45484",
   "metadata": {},
   "outputs": [
    {
     "name": "stdout",
     "output_type": "stream",
     "text": [
      "(4209, 359)\n",
      "(4209, 359)\n"
     ]
    }
   ],
   "source": [
    "#by key / ID\n",
    "df_test_x= df_test.drop(['ID'], axis=1)\n",
    "print(df_test_x.shape)\n",
    "print(df_test_x.shape)"
   ]
  },
  {
   "cell_type": "code",
   "execution_count": 16,
   "id": "78bf441f",
   "metadata": {},
   "outputs": [],
   "source": [
    "#wellshaped\n",
    "from sklearn.preprocessing import LabelEncoder\n",
    "le= LabelEncoder()\n",
    "for i in train_desc.columns:\n",
    "    df_train_x[i]=le.fit_transform(df_train_x[i])\n",
    "for i in test_desc.columns:\n",
    "    df_test_x[i]=le.fit_transform(df_test_x[i])\n",
    "from sklearn.model_selection import train_test_split\n",
    "xtrain,xtest,ytrain,ytest=train_test_split(df_train_x,df_train_y, test_size=0.25, random_state=10)"
   ]
  },
  {
   "cell_type": "code",
   "execution_count": 17,
   "id": "ec2cdafd",
   "metadata": {},
   "outputs": [
    {
     "name": "stdout",
     "output_type": "stream",
     "text": [
      "(3156, 359) (3156,)\n",
      "(1053, 359) (1053,)\n"
     ]
    }
   ],
   "source": [
    "#toggle random state for best results\n",
    "print(xtrain.shape,ytrain.shape)\n",
    "print(xtest.shape,ytest.shape)"
   ]
  },
  {
   "cell_type": "code",
   "execution_count": 20,
   "id": "cf124e79",
   "metadata": {},
   "outputs": [
    {
     "name": "stdout",
     "output_type": "stream",
     "text": [
      "xtrain shape: (3156, 359)\n",
      "(3156, 27)\n",
      "xtest shape: (1053, 359)\n",
      "(1053, 27)\n"
     ]
    }
   ],
   "source": [
    "#dim reduction\n",
    "#from #sklearn\n",
    "from sklearn.decomposition import PCA\n",
    "from xgboost import XGBRegressor\n",
    "from sklearn.metrics import accuracy_score\n",
    "pca =PCA(n_components=0.99, random_state=102)\n",
    "xtrain_trans=pca.fit_transform(xtrain)\n",
    "xtest_trans=pca.transform(xtest)\n",
    "print(\"xtrain shape:\", xtrain.shape)\n",
    "print(xtrain_trans.shape)\n",
    "print(\"xtest shape:\", xtest.shape)\n",
    "print(xtest_trans.shape)"
   ]
  },
  {
   "cell_type": "code",
   "execution_count": 21,
   "id": "bffc8f1b",
   "metadata": {},
   "outputs": [
    {
     "name": "stdout",
     "output_type": "stream",
     "text": [
      "(4209, 359)\n",
      "(4209, 27)\n"
     ]
    }
   ],
   "source": [
    "#primary component analysis / I hope\n",
    "#PRINCIPAL component (close enough)\n",
    "\n",
    "pca =PCA(n_components=0.99, random_state=102)\n",
    "df_train_trans=pca.fit_transform(df_train_x)\n",
    "print(df_train_x.shape)\n",
    "print(df_train_trans.shape)"
   ]
  },
  {
   "cell_type": "code",
   "execution_count": 22,
   "id": "970bc511",
   "metadata": {},
   "outputs": [
    {
     "data": {
      "text/plain": [
       "array([ 94.65012 ,  93.778015,  77.745514, ..., 109.12848 ,  94.11999 ,\n",
       "       108.26532 ], dtype=float32)"
      ]
     },
     "execution_count": 22,
     "metadata": {},
     "output_type": "execute_result"
    }
   ],
   "source": [
    "#use XGBoost\n",
    "#Alwaays breaks it\n",
    "\n",
    "xgb=XGBRegressor(base_score=0.5, booster='gbtree', colsample_bylevel=1,colsample_bynode=1, colsample_bytree=0.5,\n",
    "                 enable_categorical=False, gamma=0, gpu_id=-1, importance_type=None, interaction_constraints='',\n",
    "                 learning_rate=0.05, max_delta_step=0, max_depth=8, min_child_weight=2, monotone_constraints='()',\n",
    "                 n_estimators=90, n_jobs=-1,num_parallel_tree=1, objective='reg:squarederror',predictor='auto', \n",
    "                 random_state=2341, reg_alpha=1e-06, reg_lambda=2,scale_pos_weight=19.3, subsample=1, tree_method='auto',\n",
    "                 validate_parameters=1, verbosity=0, eta=0.003)\n",
    "xgb.fit(xtrain_trans,ytrain)\n",
    "#I eagerly await the newest error-codes\n",
    "ypred=xgb.predict(xtest_trans)\n",
    "xgb.predict(xtest_trans)"
   ]
  },
  {
   "cell_type": "code",
   "execution_count": 23,
   "id": "e1c93c38",
   "metadata": {},
   "outputs": [
    {
     "name": "stdout",
     "output_type": "stream",
     "text": [
      "0.7837925674595312\n",
      "0.5259128305736873\n"
     ]
    }
   ],
   "source": [
    "#print it good\n",
    "print(xgb.score(xtrain_trans,ytrain))\n",
    "print(xgb.score(xtest_trans,ytest))"
   ]
  },
  {
   "cell_type": "code",
   "execution_count": 24,
   "id": "b68463d8",
   "metadata": {},
   "outputs": [
    {
     "data": {
      "text/plain": [
       "array([103.95934 ,  92.636375,  77.92083 , ..., 100.07799 ,  92.68107 ,\n",
       "        96.01531 ], dtype=float32)"
      ]
     },
     "execution_count": 24,
     "metadata": {},
     "output_type": "execute_result"
    }
   ],
   "source": [
    "#prediction test files\n",
    "#literally predicting the values of the test dataframe\n",
    "xgb.predict(df_train_trans)"
   ]
  },
  {
   "cell_type": "code",
   "execution_count": null,
   "id": "d4c54987",
   "metadata": {},
   "outputs": [],
   "source": [
    "#xgb lib dep / reinstalled xgboost, will go back to old projects this weekend to check for file compatibility\n",
    "\n",
    "#RUNS CLEAN; 0 ERRORS [good man]\n",
    "\n",
    "#This data is kinda junk, what is there realistically to understand from this junky data? that they have too many model types?"
   ]
  }
 ],
 "metadata": {
  "kernelspec": {
   "display_name": "Python 3 (ipykernel)",
   "language": "python",
   "name": "python3"
  },
  "language_info": {
   "codemirror_mode": {
    "name": "ipython",
    "version": 3
   },
   "file_extension": ".py",
   "mimetype": "text/x-python",
   "name": "python",
   "nbconvert_exporter": "python",
   "pygments_lexer": "ipython3",
   "version": "3.10.9"
  }
 },
 "nbformat": 4,
 "nbformat_minor": 5
}
